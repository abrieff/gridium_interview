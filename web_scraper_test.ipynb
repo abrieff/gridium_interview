{
 "cells": [
  {
   "attachments": {},
   "cell_type": "markdown",
   "metadata": {},
   "source": [
    "This coding exercise is intended to help us get to know each other through code. You get to see a small example of the types of problems our new backend engineer will solve, and we get to see if your approach to coding is a fit for us. We expect this should take no more than 1-2 hours; if it takes much longer, stop and send what you have.\n",
    "\n",
    "Write a simple Python web scraper to help us visit the tide pools.\n",
    "\n",
    "Go to https://www.tide-forecast.com/ to get tide forecasts for these locations:\n",
    "\n",
    "Half Moon Bay, California\n",
    "\n",
    "Huntington Beach, California\n",
    "\n",
    "Providence, Rhode Island\n",
    "\n",
    "Wrightsville Beach, North Carolina\n",
    "\n",
    "Load the tide forecast page for each location and extract information on low tides that occur after sunrise and before sunset. Return the time and height for each daylight low tide.\n",
    "\n",
    "In your response, be sure to include a URL where we can see the code and a description of how to run it (including installing dependencies, if needed)."
   ]
  },
  {
   "cell_type": "code",
   "execution_count": 233,
   "metadata": {},
   "outputs": [],
   "source": [
    "from selenium import webdriver\n",
    "from selenium.webdriver.chrome.options import Options\n",
    "\n",
    "from selenium.webdriver.common.keys import Keys\n",
    "from selenium.webdriver.common.by import By\n",
    "from selenium.webdriver.support.wait import WebDriverWait\n",
    "from selenium.webdriver.support.ui import Select\n",
    "\n",
    "import pandas as pd\n",
    "\n",
    "import time"
   ]
  },
  {
   "cell_type": "code",
   "execution_count": 234,
   "metadata": {},
   "outputs": [],
   "source": [
    "TIDE_FORECAST_URL = \"https://www.tide-forecast.com/\"\n",
    "LOCATIONS = [('Half Moon Bay', 'California'), ('Huntington Beach', 'California'), ('Providence', 'Rhode Island'), ('Wrightsville Beach', 'North Carolina')]"
   ]
  },
  {
   "attachments": {},
   "cell_type": "markdown",
   "metadata": {},
   "source": [
    "Get Location Page:\n",
    "\n",
    "Because the URLS for the location pages don't follow a consistent format, I use selenium here to navigate through the select menu at the top for finding each of the locations, before dumping the resulting HTML directly into pandas, which automatically loads all tables from the website."
   ]
  },
  {
   "cell_type": "code",
   "execution_count": 230,
   "metadata": {},
   "outputs": [],
   "source": [
    "\n",
    "def getLocationPageHTML(driver, city, state):\n",
    "    STATE_DROPDOWN = 'region_id'\n",
    "    SEARCH_ID = 'searchbtn'\n",
    "    CITY_DROPDOWN = 'location_filename_part'\n",
    "\n",
    "    driver.get(TIDE_FORECAST_URL)\n",
    "\n",
    "    select = Select(driver.find_element(By.ID, STATE_DROPDOWN))\n",
    "    select.select_by_visible_text(state)\n",
    "\n",
    "    time.sleep(2)\n",
    "    \n",
    "    select = Select(driver.find_element(By.ID, CITY_DROPDOWN))\n",
    "    select.select_by_visible_text(city)\n",
    "\n",
    "    elem = driver.find_element(By.XPATH, \"//*\")\n",
    "    source_code = elem.get_attribute(\"outerHTML\")\n",
    "\n",
    "    return source_code\n",
    "\n"
   ]
  },
  {
   "cell_type": "code",
   "execution_count": 228,
   "metadata": {},
   "outputs": [],
   "source": [
    "def getSunriseSunset(df):\n",
    "    sunrise = pd.to_datetime(df[0].str.extract(\"Sunrise: (.*)\")[0].replace('00:', '12:'), format='%I:%M%p').dt.time[0]\n",
    "    sunset =  pd.to_datetime(df[1].str.extract(\"Sunset: (.*)\")[0].replace('00:', '12:'), format='%I:%M%p').dt.time[0]\n",
    "\n",
    "    return sunrise, sunset\n",
    "\n",
    "def formatTides(df, sunrise, sunset):\n",
    "    df['sunrise'] = sunrise\n",
    "    df['sunset'] = sunset\n",
    "    \n",
    "    df['date'] = df.iloc[:, 1].str.extract(\"\\((.*?)\\)\")\n",
    "    df['time'] = df.iloc[:, 1].str.replace('00:', '12:').str.extract(\"(.*)\\(.*\\)\")\n",
    "    df['date_time'] = pd.to_datetime(df['time'], format='%I:%M %p').dt.time\n",
    "    df.drop(columns='time')\n",
    "\n",
    "    return df\n",
    "\n",
    "\n",
    "\n",
    "    "
   ]
  },
  {
   "cell_type": "code",
   "execution_count": 163,
   "metadata": {},
   "outputs": [],
   "source": [
    "def getTides(location_page):\n",
    "    dataframes = pd.read_html(location_page)\n",
    "\n",
    "    tide_dfs = []\n",
    "\n",
    "    for i in range(3, len(dataframes), 2):\n",
    "        tides_df = dataframes[i]\n",
    "        sun_cycle_df = dataframes[i + 1]\n",
    "\n",
    "        sunrise, sunset = getSunriseSunset(sun_cycle_df)\n",
    "\n",
    "        tides_df = formatTides(tides_df, sunrise, sunset)\n",
    "\n",
    "        tide_dfs.append(tides_df)\n",
    "    \n",
    "    return pd.concat(tide_dfs).reset_index()\n",
    "    "
   ]
  },
  {
   "cell_type": "code",
   "execution_count": 235,
   "metadata": {},
   "outputs": [],
   "source": [
    "def daylightTides(tides_df):\n",
    "    return tides_df.loc[\n",
    "        (tides_df.Tide == 'Low Tide') & \n",
    "        (tides_df.date_time > tides_df.sunrise) & \n",
    "        (tides_df.date_time < tides_df.sunset)\n",
    "    ][\n",
    "        ['date', 'date_time', 'Height']\n",
    "    ]"
   ]
  },
  {
   "cell_type": "code",
   "execution_count": 238,
   "metadata": {},
   "outputs": [],
   "source": [
    "def daylightTidesByLocation(driver, locations):\n",
    "    daylight_tides = {}\n",
    "\n",
    "    for city, state in locations:\n",
    "        location_page_html = getLocationPageHTML(driver, city, state)\n",
    "\n",
    "        tides = getTides(location_page_html)\n",
    "\n",
    "        daylight_tides[(city, state)] = daylightTides(tides)\n",
    "    \n",
    "    return daylight_tides\n"
   ]
  },
  {
   "cell_type": "code",
   "execution_count": 239,
   "metadata": {},
   "outputs": [],
   "source": [
    "options = Options()\n",
    "options.headless = True\n",
    "driver = webdriver.Chrome(options=options)\n",
    "\n",
    "tides = daylightTidesByLocation(driver, LOCATIONS)"
   ]
  },
  {
   "cell_type": "code",
   "execution_count": 240,
   "metadata": {},
   "outputs": [
    {
     "data": {
      "text/plain": [
       "{('Half Moon Bay',\n",
       "  'California'):                 date date_time              Height\n",
       " 1     Mon 30 January  12:55:00     0.32 ft (0.1 m)\n",
       " 5     Tue 31 January  13:48:00    0.03 ft (0.01 m)\n",
       " 9    Wed 01 February  14:34:00  -0.18 ft (-0.05 m)\n",
       " 13   Thu 02 February  15:13:00   -0.3 ft (-0.09 m)\n",
       " 17   Fri 03 February  15:48:00  -0.36 ft (-0.11 m)\n",
       " 21   Sat 04 February  16:19:00  -0.36 ft (-0.11 m)\n",
       " 25   Sun 05 February  16:49:00  -0.29 ft (-0.09 m)\n",
       " 29   Mon 06 February  17:17:00  -0.16 ft (-0.05 m)\n",
       " 43   Fri 10 February  07:24:00    1.92 ft (0.59 m)\n",
       " 47   Sat 11 February  08:19:00    1.61 ft (0.49 m)\n",
       " 51   Sun 12 February  09:22:00    1.25 ft (0.38 m)\n",
       " 55   Mon 13 February  10:32:00    0.82 ft (0.25 m)\n",
       " 59   Tue 14 February  11:42:00     0.3 ft (0.09 m)\n",
       " 63   Wed 15 February  12:47:00  -0.24 ft (-0.07 m)\n",
       " 67   Thu 16 February  13:45:00  -0.73 ft (-0.22 m)\n",
       " 71   Fri 17 February  14:36:00   -1.1 ft (-0.34 m)\n",
       " 75   Sat 18 February  15:23:00  -1.29 ft (-0.39 m)\n",
       " 79   Sun 19 February  16:07:00  -1.27 ft (-0.39 m)\n",
       " 83   Mon 20 February  16:48:00  -1.01 ft (-0.31 m)\n",
       " 87   Tue 21 February  17:28:00  -0.55 ft (-0.17 m)\n",
       " 97   Fri 24 February  07:42:00    0.81 ft (0.25 m)\n",
       " 101  Sat 25 February  08:45:00    0.72 ft (0.22 m)\n",
       " 105  Sun 26 February  09:54:00     0.65 ft (0.2 m),\n",
       " ('Huntington Beach',\n",
       "  'California'):                 date date_time              Height\n",
       " 1     Mon 30 January  12:15:00    1.74 ft (0.53 m)\n",
       " 5     Tue 31 January  13:00:00    1.33 ft (0.41 m)\n",
       " 9    Wed 01 February  13:38:00    1.02 ft (0.31 m)\n",
       " 13   Thu 02 February  14:10:00    0.81 ft (0.25 m)\n",
       " 17   Fri 03 February  14:41:00     0.66 ft (0.2 m)\n",
       " 21   Sat 04 February  15:10:00    0.61 ft (0.19 m)\n",
       " 25   Sun 05 February  15:38:00     0.66 ft (0.2 m)\n",
       " 29   Mon 06 February  16:04:00    0.82 ft (0.25 m)\n",
       " 33   Tue 07 February  16:29:00    1.08 ft (0.33 m)\n",
       " 37   Wed 08 February  16:52:00    1.44 ft (0.44 m)\n",
       " 41   Thu 09 February  17:13:00     1.9 ft (0.58 m)\n",
       " 51   Sun 12 February  07:56:00    3.02 ft (0.92 m)\n",
       " 55   Mon 13 February  09:44:00     2.62 ft (0.8 m)\n",
       " 59   Tue 14 February  11:11:00     1.97 ft (0.6 m)\n",
       " 63   Wed 15 February  12:10:00    1.21 ft (0.37 m)\n",
       " 67   Thu 16 February  12:58:00    0.52 ft (0.16 m)\n",
       " 71   Fri 17 February  13:41:00      0.0 ft (0.0 m)\n",
       " 75   Sat 18 February  14:21:00   -0.3 ft (-0.09 m)\n",
       " 79   Sun 19 February  15:00:00   -0.33 ft (-0.1 m)\n",
       " 83   Mon 20 February  15:37:00  -0.07 ft (-0.02 m)\n",
       " 87   Tue 21 February  16:12:00    0.43 ft (0.13 m)\n",
       " 91   Wed 22 February  16:46:00    1.12 ft (0.34 m)\n",
       " 95   Thu 23 February  17:18:00    1.87 ft (0.57 m)\n",
       " 101  Sat 25 February  07:26:00    2.36 ft (0.72 m)\n",
       " 105  Sun 26 February  09:01:00    2.36 ft (0.72 m),\n",
       " ('Providence',\n",
       "  'Rhode Island'):                 date date_time              Height\n",
       " 1     Mon 30 January  08:33:00    0.96 ft (0.29 m)\n",
       " 3     Mon 30 January  10:37:00    0.91 ft (0.28 m)\n",
       " 7     Tue 31 January  11:33:00    0.87 ft (0.27 m)\n",
       " 11   Wed 01 February  12:23:00    0.82 ft (0.25 m)\n",
       " 15   Thu 02 February  11:09:00    0.77 ft (0.23 m)\n",
       " 17   Thu 02 February  13:04:00    0.76 ft (0.23 m)\n",
       " 21   Fri 03 February  11:45:00    0.58 ft (0.18 m)\n",
       " 25   Sat 04 February  12:25:00    0.37 ft (0.11 m)\n",
       " 29   Sun 05 February  13:06:00    0.17 ft (0.05 m)\n",
       " 33   Mon 06 February  13:45:00  -0.02 ft (-0.01 m)\n",
       " 37   Tue 07 February  14:23:00  -0.16 ft (-0.05 m)\n",
       " 41   Wed 08 February  15:00:00  -0.24 ft (-0.07 m)\n",
       " 45   Thu 09 February  15:37:00  -0.27 ft (-0.08 m)\n",
       " 49   Fri 10 February  16:15:00  -0.25 ft (-0.08 m)\n",
       " 53   Sat 11 February  16:56:00  -0.17 ft (-0.05 m)\n",
       " 63   Tue 14 February  07:29:00    0.36 ft (0.11 m)\n",
       " 67   Wed 15 February  08:39:00    0.29 ft (0.09 m)\n",
       " 71   Thu 16 February  09:46:00    0.07 ft (0.02 m)\n",
       " 75   Fri 17 February  10:49:00  -0.22 ft (-0.07 m)\n",
       " 79   Sat 18 February  11:48:00  -0.51 ft (-0.16 m)\n",
       " 83   Sun 19 February  12:45:00  -0.75 ft (-0.23 m)\n",
       " 87   Mon 20 February  13:37:00  -0.92 ft (-0.28 m)\n",
       " 91   Tue 21 February  14:23:00   -0.98 ft (-0.3 m)\n",
       " 95   Wed 22 February  15:05:00  -0.91 ft (-0.28 m)\n",
       " 99   Thu 23 February  15:45:00  -0.71 ft (-0.22 m)\n",
       " 103  Fri 24 February  16:23:00  -0.42 ft (-0.13 m)\n",
       " 107  Sat 25 February  17:02:00  -0.07 ft (-0.02 m),\n",
       " ('Wrightsville Beach',\n",
       "  'North Carolina'):                 date date_time              Height\n",
       " 1     Mon 30 January  09:05:00    0.16 ft (0.05 m)\n",
       " 5     Tue 31 January  09:58:00    0.18 ft (0.05 m)\n",
       " 9    Wed 01 February  10:47:00    0.15 ft (0.05 m)\n",
       " 13   Thu 02 February  11:33:00    0.08 ft (0.02 m)\n",
       " 17   Fri 03 February  12:16:00  -0.03 ft (-0.01 m)\n",
       " 21   Sat 04 February  12:55:00  -0.15 ft (-0.05 m)\n",
       " 25   Sun 05 February  13:31:00  -0.26 ft (-0.08 m)\n",
       " 29   Mon 06 February  14:05:00   -0.33 ft (-0.1 m)\n",
       " 33   Tue 07 February  14:37:00  -0.35 ft (-0.11 m)\n",
       " 37   Wed 08 February  15:08:00   -0.32 ft (-0.1 m)\n",
       " 41   Thu 09 February  15:39:00  -0.26 ft (-0.08 m)\n",
       " 45   Fri 10 February  16:10:00  -0.19 ft (-0.06 m)\n",
       " 49   Sat 11 February  16:47:00  -0.11 ft (-0.03 m)\n",
       " 53   Sun 12 February  17:36:00  -0.05 ft (-0.02 m)\n",
       " 59   Tue 14 February  07:52:00    0.26 ft (0.08 m)\n",
       " 63   Wed 15 February  08:58:00    0.08 ft (0.02 m)\n",
       " 67   Thu 16 February  09:57:00  -0.16 ft (-0.05 m)\n",
       " 71   Fri 17 February  10:55:00  -0.44 ft (-0.13 m)\n",
       " 75   Sat 18 February  11:50:00  -0.71 ft (-0.22 m)\n",
       " 79   Sun 19 February  12:42:00  -0.95 ft (-0.29 m)\n",
       " 83   Mon 20 February  13:31:00  -1.12 ft (-0.34 m)\n",
       " 87   Tue 21 February  14:16:00  -1.17 ft (-0.36 m)\n",
       " 91   Wed 22 February  15:00:00  -1.09 ft (-0.33 m)\n",
       " 95   Thu 23 February  15:43:00  -0.89 ft (-0.27 m)\n",
       " 99   Fri 24 February  16:27:00  -0.61 ft (-0.19 m)\n",
       " 103  Sat 25 February  17:16:00  -0.29 ft (-0.09 m)}"
      ]
     },
     "execution_count": 240,
     "metadata": {},
     "output_type": "execute_result"
    }
   ],
   "source": [
    "tides"
   ]
  },
  {
   "cell_type": "code",
   "execution_count": null,
   "metadata": {},
   "outputs": [],
   "source": []
  }
 ],
 "metadata": {
  "kernelspec": {
   "display_name": "gridium_interview",
   "language": "python",
   "name": "python3"
  },
  "language_info": {
   "codemirror_mode": {
    "name": "ipython",
    "version": 3
   },
   "file_extension": ".py",
   "mimetype": "text/x-python",
   "name": "python",
   "nbconvert_exporter": "python",
   "pygments_lexer": "ipython3",
   "version": "3.10.8"
  },
  "orig_nbformat": 4,
  "vscode": {
   "interpreter": {
    "hash": "5dc1394fbc45e7522bb32a6256e2b073d4eb367060ad2d2c706ccdad60653814"
   }
  }
 },
 "nbformat": 4,
 "nbformat_minor": 2
}
